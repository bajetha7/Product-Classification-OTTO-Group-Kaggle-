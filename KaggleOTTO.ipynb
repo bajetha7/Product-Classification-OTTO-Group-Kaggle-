{
  "nbformat": 4,
  "nbformat_minor": 0,
  "metadata": {
    "colab": {
      "name": "KaggleOTTO.ipynb",
      "provenance": [],
      "collapsed_sections": []
    },
    "kernelspec": {
      "name": "python3",
      "display_name": "Python 3"
    },
    "accelerator": "GPU"
  },
  "cells": [
    {
      "cell_type": "markdown",
      "metadata": {
        "id": "srEoCoYDszKk",
        "colab_type": "text"
      },
      "source": [
        "## Importing libraries"
      ]
    },
    {
      "cell_type": "code",
      "metadata": {
        "id": "8utiFRMxqrSi",
        "colab_type": "code",
        "colab": {}
      },
      "source": [
        "import pandas as pd\n",
        "import numpy as np\n",
        "import matplotlib.pyplot as plt\n",
        "import matplotlib\n",
        "%matplotlib inline\n",
        "matplotlib.rc('xtick', labelsize=20) \n",
        "matplotlib.rc('ytick', labelsize=20)\n",
        "from sklearn.model_selection import train_test_split\n",
        "from sklearn.linear_model import SGDClassifier\n",
        "from sklearn.metrics import f1_score, log_loss\n",
        "from sklearn.neural_network import MLPClassifier\n",
        "from sklearn.neighbors import KNeighborsClassifier\n",
        "from sklearn.svm import SVC\n",
        "from sklearn.gaussian_process.kernels import RBF\n",
        "from sklearn.ensemble import RandomForestClassifier, AdaBoostClassifier\n",
        "from sklearn.naive_bayes import GaussianNB\n",
        "from xgboost.sklearn import XGBClassifier\n",
        "from sklearn.ensemble import ExtraTreesClassifier\n",
        "from sklearn.model_selection import GridSearchCV\n",
        "from sklearn.ensemble import BaggingClassifier\n",
        "from sklearn.model_selection import KFold"
      ],
      "execution_count": 0,
      "outputs": []
    },
    {
      "cell_type": "markdown",
      "metadata": {
        "id": "tr7B5f_rs7sq",
        "colab_type": "text"
      },
      "source": [
        "## Reading the data from drive "
      ]
    },
    {
      "cell_type": "code",
      "metadata": {
        "id": "gAVZ1dF6rcq2",
        "colab_type": "code",
        "colab": {}
      },
      "source": [
        "# Import PyDrive and associated libraries.\n",
        "# This only needs to be done once in a notebook.\n",
        "from pydrive.auth import GoogleAuth\n",
        "from pydrive.drive import GoogleDrive\n",
        "from google.colab import auth\n",
        "from oauth2client.client import GoogleCredentials\n",
        "\n",
        "# Authenticate and create the PyDrive client.\n",
        "# This only needs to be done once in a notebook.\n",
        "auth.authenticate_user()\n",
        "gauth = GoogleAuth()\n",
        "gauth.credentials = GoogleCredentials.get_application_default()\n",
        "drive = GoogleDrive(gauth)\n",
        "\n"
      ],
      "execution_count": 0,
      "outputs": []
    },
    {
      "cell_type": "code",
      "metadata": {
        "id": "x-VLZcPh0IFn",
        "colab_type": "code",
        "colab": {}
      },
      "source": [
        "link = 'https://drive.google.com/open?id=1VE5uiRpHlkavElYpy2AvEm1r-iY7PWMa' # The shareable link"
      ],
      "execution_count": 0,
      "outputs": []
    },
    {
      "cell_type": "code",
      "metadata": {
        "id": "6krCEFKg0UcM",
        "colab_type": "code",
        "outputId": "324b0fdc-829b-4f45-e8d2-7706b593dc5e",
        "colab": {
          "base_uri": "https://localhost:8080/",
          "height": 34
        }
      },
      "source": [
        "fluff, id = link.split('=')\n",
        "print (id) # Verify that you have everything after '='"
      ],
      "execution_count": 6,
      "outputs": [
        {
          "output_type": "stream",
          "text": [
            "1VE5uiRpHlkavElYpy2AvEm1r-iY7PWMa\n"
          ],
          "name": "stdout"
        }
      ]
    },
    {
      "cell_type": "markdown",
      "metadata": {
        "id": "4gwtiLGNtHwY",
        "colab_type": "text"
      },
      "source": [
        "### Train data"
      ]
    },
    {
      "cell_type": "code",
      "metadata": {
        "id": "c2R5gpFB0dwP",
        "colab_type": "code",
        "colab": {}
      },
      "source": [
        "downloaded = drive.CreateFile({'id':id}) \n",
        "downloaded.GetContentFile('train.csv')  \n",
        "train_df = pd.read_csv('train.csv')\n",
        "# Dataset is now stored in a Pandas Dataframe"
      ],
      "execution_count": 0,
      "outputs": []
    },
    {
      "cell_type": "code",
      "metadata": {
        "id": "KAdCz2Eo0ma0",
        "colab_type": "code",
        "outputId": "35662eeb-d5c8-40de-ea75-c5f361f2ae17",
        "colab": {
          "base_uri": "https://localhost:8080/",
          "height": 253
        }
      },
      "source": [
        "train_df.head()"
      ],
      "execution_count": 8,
      "outputs": [
        {
          "output_type": "execute_result",
          "data": {
            "text/html": [
              "<div>\n",
              "<style scoped>\n",
              "    .dataframe tbody tr th:only-of-type {\n",
              "        vertical-align: middle;\n",
              "    }\n",
              "\n",
              "    .dataframe tbody tr th {\n",
              "        vertical-align: top;\n",
              "    }\n",
              "\n",
              "    .dataframe thead th {\n",
              "        text-align: right;\n",
              "    }\n",
              "</style>\n",
              "<table border=\"1\" class=\"dataframe\">\n",
              "  <thead>\n",
              "    <tr style=\"text-align: right;\">\n",
              "      <th></th>\n",
              "      <th>id</th>\n",
              "      <th>feat_1</th>\n",
              "      <th>feat_2</th>\n",
              "      <th>feat_3</th>\n",
              "      <th>feat_4</th>\n",
              "      <th>feat_5</th>\n",
              "      <th>feat_6</th>\n",
              "      <th>feat_7</th>\n",
              "      <th>feat_8</th>\n",
              "      <th>feat_9</th>\n",
              "      <th>feat_10</th>\n",
              "      <th>feat_11</th>\n",
              "      <th>feat_12</th>\n",
              "      <th>feat_13</th>\n",
              "      <th>feat_14</th>\n",
              "      <th>feat_15</th>\n",
              "      <th>feat_16</th>\n",
              "      <th>feat_17</th>\n",
              "      <th>feat_18</th>\n",
              "      <th>feat_19</th>\n",
              "      <th>feat_20</th>\n",
              "      <th>feat_21</th>\n",
              "      <th>feat_22</th>\n",
              "      <th>feat_23</th>\n",
              "      <th>feat_24</th>\n",
              "      <th>feat_25</th>\n",
              "      <th>feat_26</th>\n",
              "      <th>feat_27</th>\n",
              "      <th>feat_28</th>\n",
              "      <th>feat_29</th>\n",
              "      <th>feat_30</th>\n",
              "      <th>feat_31</th>\n",
              "      <th>feat_32</th>\n",
              "      <th>feat_33</th>\n",
              "      <th>feat_34</th>\n",
              "      <th>feat_35</th>\n",
              "      <th>feat_36</th>\n",
              "      <th>feat_37</th>\n",
              "      <th>feat_38</th>\n",
              "      <th>feat_39</th>\n",
              "      <th>...</th>\n",
              "      <th>feat_55</th>\n",
              "      <th>feat_56</th>\n",
              "      <th>feat_57</th>\n",
              "      <th>feat_58</th>\n",
              "      <th>feat_59</th>\n",
              "      <th>feat_60</th>\n",
              "      <th>feat_61</th>\n",
              "      <th>feat_62</th>\n",
              "      <th>feat_63</th>\n",
              "      <th>feat_64</th>\n",
              "      <th>feat_65</th>\n",
              "      <th>feat_66</th>\n",
              "      <th>feat_67</th>\n",
              "      <th>feat_68</th>\n",
              "      <th>feat_69</th>\n",
              "      <th>feat_70</th>\n",
              "      <th>feat_71</th>\n",
              "      <th>feat_72</th>\n",
              "      <th>feat_73</th>\n",
              "      <th>feat_74</th>\n",
              "      <th>feat_75</th>\n",
              "      <th>feat_76</th>\n",
              "      <th>feat_77</th>\n",
              "      <th>feat_78</th>\n",
              "      <th>feat_79</th>\n",
              "      <th>feat_80</th>\n",
              "      <th>feat_81</th>\n",
              "      <th>feat_82</th>\n",
              "      <th>feat_83</th>\n",
              "      <th>feat_84</th>\n",
              "      <th>feat_85</th>\n",
              "      <th>feat_86</th>\n",
              "      <th>feat_87</th>\n",
              "      <th>feat_88</th>\n",
              "      <th>feat_89</th>\n",
              "      <th>feat_90</th>\n",
              "      <th>feat_91</th>\n",
              "      <th>feat_92</th>\n",
              "      <th>feat_93</th>\n",
              "      <th>target</th>\n",
              "    </tr>\n",
              "  </thead>\n",
              "  <tbody>\n",
              "    <tr>\n",
              "      <th>0</th>\n",
              "      <td>1</td>\n",
              "      <td>1</td>\n",
              "      <td>0</td>\n",
              "      <td>0</td>\n",
              "      <td>0</td>\n",
              "      <td>0</td>\n",
              "      <td>0</td>\n",
              "      <td>0</td>\n",
              "      <td>0</td>\n",
              "      <td>0</td>\n",
              "      <td>0</td>\n",
              "      <td>1</td>\n",
              "      <td>0</td>\n",
              "      <td>0</td>\n",
              "      <td>0</td>\n",
              "      <td>0</td>\n",
              "      <td>0</td>\n",
              "      <td>2</td>\n",
              "      <td>0</td>\n",
              "      <td>0</td>\n",
              "      <td>0</td>\n",
              "      <td>0</td>\n",
              "      <td>1</td>\n",
              "      <td>0</td>\n",
              "      <td>4</td>\n",
              "      <td>1</td>\n",
              "      <td>1</td>\n",
              "      <td>0</td>\n",
              "      <td>0</td>\n",
              "      <td>2</td>\n",
              "      <td>0</td>\n",
              "      <td>0</td>\n",
              "      <td>0</td>\n",
              "      <td>0</td>\n",
              "      <td>0</td>\n",
              "      <td>1</td>\n",
              "      <td>0</td>\n",
              "      <td>0</td>\n",
              "      <td>0</td>\n",
              "      <td>0</td>\n",
              "      <td>...</td>\n",
              "      <td>0</td>\n",
              "      <td>0</td>\n",
              "      <td>2</td>\n",
              "      <td>0</td>\n",
              "      <td>0</td>\n",
              "      <td>11</td>\n",
              "      <td>0</td>\n",
              "      <td>1</td>\n",
              "      <td>1</td>\n",
              "      <td>0</td>\n",
              "      <td>1</td>\n",
              "      <td>0</td>\n",
              "      <td>7</td>\n",
              "      <td>0</td>\n",
              "      <td>0</td>\n",
              "      <td>0</td>\n",
              "      <td>1</td>\n",
              "      <td>0</td>\n",
              "      <td>0</td>\n",
              "      <td>0</td>\n",
              "      <td>0</td>\n",
              "      <td>0</td>\n",
              "      <td>0</td>\n",
              "      <td>0</td>\n",
              "      <td>2</td>\n",
              "      <td>1</td>\n",
              "      <td>0</td>\n",
              "      <td>0</td>\n",
              "      <td>0</td>\n",
              "      <td>0</td>\n",
              "      <td>1</td>\n",
              "      <td>0</td>\n",
              "      <td>0</td>\n",
              "      <td>0</td>\n",
              "      <td>0</td>\n",
              "      <td>0</td>\n",
              "      <td>0</td>\n",
              "      <td>0</td>\n",
              "      <td>0</td>\n",
              "      <td>Class_1</td>\n",
              "    </tr>\n",
              "    <tr>\n",
              "      <th>1</th>\n",
              "      <td>2</td>\n",
              "      <td>0</td>\n",
              "      <td>0</td>\n",
              "      <td>0</td>\n",
              "      <td>0</td>\n",
              "      <td>0</td>\n",
              "      <td>0</td>\n",
              "      <td>0</td>\n",
              "      <td>1</td>\n",
              "      <td>0</td>\n",
              "      <td>0</td>\n",
              "      <td>0</td>\n",
              "      <td>0</td>\n",
              "      <td>0</td>\n",
              "      <td>0</td>\n",
              "      <td>0</td>\n",
              "      <td>0</td>\n",
              "      <td>0</td>\n",
              "      <td>2</td>\n",
              "      <td>0</td>\n",
              "      <td>0</td>\n",
              "      <td>0</td>\n",
              "      <td>0</td>\n",
              "      <td>0</td>\n",
              "      <td>0</td>\n",
              "      <td>0</td>\n",
              "      <td>0</td>\n",
              "      <td>0</td>\n",
              "      <td>0</td>\n",
              "      <td>0</td>\n",
              "      <td>0</td>\n",
              "      <td>0</td>\n",
              "      <td>0</td>\n",
              "      <td>0</td>\n",
              "      <td>0</td>\n",
              "      <td>0</td>\n",
              "      <td>0</td>\n",
              "      <td>1</td>\n",
              "      <td>0</td>\n",
              "      <td>0</td>\n",
              "      <td>...</td>\n",
              "      <td>0</td>\n",
              "      <td>0</td>\n",
              "      <td>0</td>\n",
              "      <td>1</td>\n",
              "      <td>0</td>\n",
              "      <td>0</td>\n",
              "      <td>0</td>\n",
              "      <td>0</td>\n",
              "      <td>0</td>\n",
              "      <td>1</td>\n",
              "      <td>0</td>\n",
              "      <td>0</td>\n",
              "      <td>1</td>\n",
              "      <td>0</td>\n",
              "      <td>0</td>\n",
              "      <td>0</td>\n",
              "      <td>0</td>\n",
              "      <td>0</td>\n",
              "      <td>2</td>\n",
              "      <td>1</td>\n",
              "      <td>0</td>\n",
              "      <td>1</td>\n",
              "      <td>0</td>\n",
              "      <td>1</td>\n",
              "      <td>0</td>\n",
              "      <td>0</td>\n",
              "      <td>0</td>\n",
              "      <td>0</td>\n",
              "      <td>0</td>\n",
              "      <td>0</td>\n",
              "      <td>0</td>\n",
              "      <td>0</td>\n",
              "      <td>0</td>\n",
              "      <td>0</td>\n",
              "      <td>0</td>\n",
              "      <td>0</td>\n",
              "      <td>0</td>\n",
              "      <td>0</td>\n",
              "      <td>0</td>\n",
              "      <td>Class_1</td>\n",
              "    </tr>\n",
              "    <tr>\n",
              "      <th>2</th>\n",
              "      <td>3</td>\n",
              "      <td>0</td>\n",
              "      <td>0</td>\n",
              "      <td>0</td>\n",
              "      <td>0</td>\n",
              "      <td>0</td>\n",
              "      <td>0</td>\n",
              "      <td>0</td>\n",
              "      <td>1</td>\n",
              "      <td>0</td>\n",
              "      <td>0</td>\n",
              "      <td>0</td>\n",
              "      <td>0</td>\n",
              "      <td>0</td>\n",
              "      <td>0</td>\n",
              "      <td>0</td>\n",
              "      <td>0</td>\n",
              "      <td>1</td>\n",
              "      <td>0</td>\n",
              "      <td>0</td>\n",
              "      <td>0</td>\n",
              "      <td>0</td>\n",
              "      <td>0</td>\n",
              "      <td>0</td>\n",
              "      <td>0</td>\n",
              "      <td>0</td>\n",
              "      <td>0</td>\n",
              "      <td>0</td>\n",
              "      <td>0</td>\n",
              "      <td>0</td>\n",
              "      <td>0</td>\n",
              "      <td>0</td>\n",
              "      <td>0</td>\n",
              "      <td>1</td>\n",
              "      <td>0</td>\n",
              "      <td>0</td>\n",
              "      <td>0</td>\n",
              "      <td>0</td>\n",
              "      <td>0</td>\n",
              "      <td>0</td>\n",
              "      <td>...</td>\n",
              "      <td>1</td>\n",
              "      <td>0</td>\n",
              "      <td>0</td>\n",
              "      <td>0</td>\n",
              "      <td>0</td>\n",
              "      <td>0</td>\n",
              "      <td>0</td>\n",
              "      <td>0</td>\n",
              "      <td>0</td>\n",
              "      <td>0</td>\n",
              "      <td>0</td>\n",
              "      <td>0</td>\n",
              "      <td>6</td>\n",
              "      <td>0</td>\n",
              "      <td>0</td>\n",
              "      <td>2</td>\n",
              "      <td>0</td>\n",
              "      <td>0</td>\n",
              "      <td>0</td>\n",
              "      <td>0</td>\n",
              "      <td>0</td>\n",
              "      <td>0</td>\n",
              "      <td>0</td>\n",
              "      <td>0</td>\n",
              "      <td>0</td>\n",
              "      <td>0</td>\n",
              "      <td>1</td>\n",
              "      <td>0</td>\n",
              "      <td>0</td>\n",
              "      <td>0</td>\n",
              "      <td>0</td>\n",
              "      <td>0</td>\n",
              "      <td>0</td>\n",
              "      <td>0</td>\n",
              "      <td>0</td>\n",
              "      <td>0</td>\n",
              "      <td>0</td>\n",
              "      <td>0</td>\n",
              "      <td>0</td>\n",
              "      <td>Class_1</td>\n",
              "    </tr>\n",
              "    <tr>\n",
              "      <th>3</th>\n",
              "      <td>4</td>\n",
              "      <td>1</td>\n",
              "      <td>0</td>\n",
              "      <td>0</td>\n",
              "      <td>1</td>\n",
              "      <td>6</td>\n",
              "      <td>1</td>\n",
              "      <td>5</td>\n",
              "      <td>0</td>\n",
              "      <td>0</td>\n",
              "      <td>1</td>\n",
              "      <td>1</td>\n",
              "      <td>0</td>\n",
              "      <td>1</td>\n",
              "      <td>0</td>\n",
              "      <td>0</td>\n",
              "      <td>1</td>\n",
              "      <td>1</td>\n",
              "      <td>0</td>\n",
              "      <td>0</td>\n",
              "      <td>0</td>\n",
              "      <td>0</td>\n",
              "      <td>0</td>\n",
              "      <td>0</td>\n",
              "      <td>7</td>\n",
              "      <td>2</td>\n",
              "      <td>2</td>\n",
              "      <td>0</td>\n",
              "      <td>0</td>\n",
              "      <td>0</td>\n",
              "      <td>58</td>\n",
              "      <td>0</td>\n",
              "      <td>10</td>\n",
              "      <td>0</td>\n",
              "      <td>0</td>\n",
              "      <td>0</td>\n",
              "      <td>0</td>\n",
              "      <td>0</td>\n",
              "      <td>3</td>\n",
              "      <td>0</td>\n",
              "      <td>...</td>\n",
              "      <td>1</td>\n",
              "      <td>0</td>\n",
              "      <td>0</td>\n",
              "      <td>0</td>\n",
              "      <td>0</td>\n",
              "      <td>0</td>\n",
              "      <td>0</td>\n",
              "      <td>0</td>\n",
              "      <td>0</td>\n",
              "      <td>0</td>\n",
              "      <td>2</td>\n",
              "      <td>1</td>\n",
              "      <td>5</td>\n",
              "      <td>0</td>\n",
              "      <td>0</td>\n",
              "      <td>4</td>\n",
              "      <td>0</td>\n",
              "      <td>0</td>\n",
              "      <td>2</td>\n",
              "      <td>1</td>\n",
              "      <td>0</td>\n",
              "      <td>1</td>\n",
              "      <td>0</td>\n",
              "      <td>0</td>\n",
              "      <td>1</td>\n",
              "      <td>1</td>\n",
              "      <td>2</td>\n",
              "      <td>2</td>\n",
              "      <td>0</td>\n",
              "      <td>22</td>\n",
              "      <td>0</td>\n",
              "      <td>1</td>\n",
              "      <td>2</td>\n",
              "      <td>0</td>\n",
              "      <td>0</td>\n",
              "      <td>0</td>\n",
              "      <td>0</td>\n",
              "      <td>0</td>\n",
              "      <td>0</td>\n",
              "      <td>Class_1</td>\n",
              "    </tr>\n",
              "    <tr>\n",
              "      <th>4</th>\n",
              "      <td>5</td>\n",
              "      <td>0</td>\n",
              "      <td>0</td>\n",
              "      <td>0</td>\n",
              "      <td>0</td>\n",
              "      <td>0</td>\n",
              "      <td>0</td>\n",
              "      <td>0</td>\n",
              "      <td>0</td>\n",
              "      <td>0</td>\n",
              "      <td>0</td>\n",
              "      <td>0</td>\n",
              "      <td>0</td>\n",
              "      <td>0</td>\n",
              "      <td>0</td>\n",
              "      <td>0</td>\n",
              "      <td>0</td>\n",
              "      <td>4</td>\n",
              "      <td>0</td>\n",
              "      <td>0</td>\n",
              "      <td>0</td>\n",
              "      <td>0</td>\n",
              "      <td>0</td>\n",
              "      <td>0</td>\n",
              "      <td>1</td>\n",
              "      <td>0</td>\n",
              "      <td>0</td>\n",
              "      <td>0</td>\n",
              "      <td>0</td>\n",
              "      <td>0</td>\n",
              "      <td>0</td>\n",
              "      <td>0</td>\n",
              "      <td>0</td>\n",
              "      <td>0</td>\n",
              "      <td>0</td>\n",
              "      <td>0</td>\n",
              "      <td>0</td>\n",
              "      <td>0</td>\n",
              "      <td>0</td>\n",
              "      <td>0</td>\n",
              "      <td>...</td>\n",
              "      <td>0</td>\n",
              "      <td>0</td>\n",
              "      <td>0</td>\n",
              "      <td>0</td>\n",
              "      <td>0</td>\n",
              "      <td>0</td>\n",
              "      <td>0</td>\n",
              "      <td>1</td>\n",
              "      <td>0</td>\n",
              "      <td>0</td>\n",
              "      <td>0</td>\n",
              "      <td>0</td>\n",
              "      <td>0</td>\n",
              "      <td>1</td>\n",
              "      <td>0</td>\n",
              "      <td>0</td>\n",
              "      <td>3</td>\n",
              "      <td>0</td>\n",
              "      <td>0</td>\n",
              "      <td>0</td>\n",
              "      <td>0</td>\n",
              "      <td>0</td>\n",
              "      <td>0</td>\n",
              "      <td>0</td>\n",
              "      <td>4</td>\n",
              "      <td>0</td>\n",
              "      <td>1</td>\n",
              "      <td>0</td>\n",
              "      <td>0</td>\n",
              "      <td>0</td>\n",
              "      <td>1</td>\n",
              "      <td>0</td>\n",
              "      <td>0</td>\n",
              "      <td>0</td>\n",
              "      <td>0</td>\n",
              "      <td>1</td>\n",
              "      <td>0</td>\n",
              "      <td>0</td>\n",
              "      <td>0</td>\n",
              "      <td>Class_1</td>\n",
              "    </tr>\n",
              "  </tbody>\n",
              "</table>\n",
              "<p>5 rows × 95 columns</p>\n",
              "</div>"
            ],
            "text/plain": [
              "   id  feat_1  feat_2  feat_3  ...  feat_91  feat_92  feat_93   target\n",
              "0   1       1       0       0  ...        0        0        0  Class_1\n",
              "1   2       0       0       0  ...        0        0        0  Class_1\n",
              "2   3       0       0       0  ...        0        0        0  Class_1\n",
              "3   4       1       0       0  ...        0        0        0  Class_1\n",
              "4   5       0       0       0  ...        0        0        0  Class_1\n",
              "\n",
              "[5 rows x 95 columns]"
            ]
          },
          "metadata": {
            "tags": []
          },
          "execution_count": 8
        }
      ]
    },
    {
      "cell_type": "code",
      "metadata": {
        "id": "GoLaAz4yu3Og",
        "colab_type": "code",
        "colab": {}
      },
      "source": [
        "link = 'https://drive.google.com/open?id=1TAS5yTMW0VJVhNz1VJy1f5pcc791GkV6' # The shareable link"
      ],
      "execution_count": 0,
      "outputs": []
    },
    {
      "cell_type": "code",
      "metadata": {
        "id": "L5INK2xRvrP_",
        "colab_type": "code",
        "outputId": "cf70bd8f-5500-400c-bc4f-3eb0d4b054a2",
        "colab": {
          "base_uri": "https://localhost:8080/",
          "height": 34
        }
      },
      "source": [
        "fluff, id = link.split('=')\n",
        "print (id) # Verify that you have everything after '='"
      ],
      "execution_count": 10,
      "outputs": [
        {
          "output_type": "stream",
          "text": [
            "1TAS5yTMW0VJVhNz1VJy1f5pcc791GkV6\n"
          ],
          "name": "stdout"
        }
      ]
    },
    {
      "cell_type": "markdown",
      "metadata": {
        "id": "2WKatptOtNJt",
        "colab_type": "text"
      },
      "source": [
        "### Test Data"
      ]
    },
    {
      "cell_type": "code",
      "metadata": {
        "id": "bC6EhIt-vufa",
        "colab_type": "code",
        "outputId": "3b07c39e-4303-4a1a-c447-bacca54fa97e",
        "colab": {
          "base_uri": "https://localhost:8080/",
          "height": 253
        }
      },
      "source": [
        "downloaded = drive.CreateFile({'id':id}) \n",
        "downloaded.GetContentFile('test.csv')  \n",
        "test_df = pd.read_csv('test.csv')\n",
        "# Dataset is now stored in a Pandas Dataframe\n",
        "test_df.head()"
      ],
      "execution_count": 11,
      "outputs": [
        {
          "output_type": "execute_result",
          "data": {
            "text/html": [
              "<div>\n",
              "<style scoped>\n",
              "    .dataframe tbody tr th:only-of-type {\n",
              "        vertical-align: middle;\n",
              "    }\n",
              "\n",
              "    .dataframe tbody tr th {\n",
              "        vertical-align: top;\n",
              "    }\n",
              "\n",
              "    .dataframe thead th {\n",
              "        text-align: right;\n",
              "    }\n",
              "</style>\n",
              "<table border=\"1\" class=\"dataframe\">\n",
              "  <thead>\n",
              "    <tr style=\"text-align: right;\">\n",
              "      <th></th>\n",
              "      <th>id</th>\n",
              "      <th>feat_1</th>\n",
              "      <th>feat_2</th>\n",
              "      <th>feat_3</th>\n",
              "      <th>feat_4</th>\n",
              "      <th>feat_5</th>\n",
              "      <th>feat_6</th>\n",
              "      <th>feat_7</th>\n",
              "      <th>feat_8</th>\n",
              "      <th>feat_9</th>\n",
              "      <th>feat_10</th>\n",
              "      <th>feat_11</th>\n",
              "      <th>feat_12</th>\n",
              "      <th>feat_13</th>\n",
              "      <th>feat_14</th>\n",
              "      <th>feat_15</th>\n",
              "      <th>feat_16</th>\n",
              "      <th>feat_17</th>\n",
              "      <th>feat_18</th>\n",
              "      <th>feat_19</th>\n",
              "      <th>feat_20</th>\n",
              "      <th>feat_21</th>\n",
              "      <th>feat_22</th>\n",
              "      <th>feat_23</th>\n",
              "      <th>feat_24</th>\n",
              "      <th>feat_25</th>\n",
              "      <th>feat_26</th>\n",
              "      <th>feat_27</th>\n",
              "      <th>feat_28</th>\n",
              "      <th>feat_29</th>\n",
              "      <th>feat_30</th>\n",
              "      <th>feat_31</th>\n",
              "      <th>feat_32</th>\n",
              "      <th>feat_33</th>\n",
              "      <th>feat_34</th>\n",
              "      <th>feat_35</th>\n",
              "      <th>feat_36</th>\n",
              "      <th>feat_37</th>\n",
              "      <th>feat_38</th>\n",
              "      <th>feat_39</th>\n",
              "      <th>...</th>\n",
              "      <th>feat_54</th>\n",
              "      <th>feat_55</th>\n",
              "      <th>feat_56</th>\n",
              "      <th>feat_57</th>\n",
              "      <th>feat_58</th>\n",
              "      <th>feat_59</th>\n",
              "      <th>feat_60</th>\n",
              "      <th>feat_61</th>\n",
              "      <th>feat_62</th>\n",
              "      <th>feat_63</th>\n",
              "      <th>feat_64</th>\n",
              "      <th>feat_65</th>\n",
              "      <th>feat_66</th>\n",
              "      <th>feat_67</th>\n",
              "      <th>feat_68</th>\n",
              "      <th>feat_69</th>\n",
              "      <th>feat_70</th>\n",
              "      <th>feat_71</th>\n",
              "      <th>feat_72</th>\n",
              "      <th>feat_73</th>\n",
              "      <th>feat_74</th>\n",
              "      <th>feat_75</th>\n",
              "      <th>feat_76</th>\n",
              "      <th>feat_77</th>\n",
              "      <th>feat_78</th>\n",
              "      <th>feat_79</th>\n",
              "      <th>feat_80</th>\n",
              "      <th>feat_81</th>\n",
              "      <th>feat_82</th>\n",
              "      <th>feat_83</th>\n",
              "      <th>feat_84</th>\n",
              "      <th>feat_85</th>\n",
              "      <th>feat_86</th>\n",
              "      <th>feat_87</th>\n",
              "      <th>feat_88</th>\n",
              "      <th>feat_89</th>\n",
              "      <th>feat_90</th>\n",
              "      <th>feat_91</th>\n",
              "      <th>feat_92</th>\n",
              "      <th>feat_93</th>\n",
              "    </tr>\n",
              "  </thead>\n",
              "  <tbody>\n",
              "    <tr>\n",
              "      <th>0</th>\n",
              "      <td>1</td>\n",
              "      <td>0</td>\n",
              "      <td>0</td>\n",
              "      <td>0</td>\n",
              "      <td>0</td>\n",
              "      <td>0</td>\n",
              "      <td>0</td>\n",
              "      <td>0</td>\n",
              "      <td>0</td>\n",
              "      <td>0</td>\n",
              "      <td>3</td>\n",
              "      <td>0</td>\n",
              "      <td>0</td>\n",
              "      <td>0</td>\n",
              "      <td>3</td>\n",
              "      <td>2</td>\n",
              "      <td>1</td>\n",
              "      <td>0</td>\n",
              "      <td>0</td>\n",
              "      <td>0</td>\n",
              "      <td>0</td>\n",
              "      <td>0</td>\n",
              "      <td>0</td>\n",
              "      <td>0</td>\n",
              "      <td>5</td>\n",
              "      <td>3</td>\n",
              "      <td>1</td>\n",
              "      <td>1</td>\n",
              "      <td>0</td>\n",
              "      <td>0</td>\n",
              "      <td>0</td>\n",
              "      <td>0</td>\n",
              "      <td>0</td>\n",
              "      <td>1</td>\n",
              "      <td>0</td>\n",
              "      <td>0</td>\n",
              "      <td>1</td>\n",
              "      <td>0</td>\n",
              "      <td>1</td>\n",
              "      <td>0</td>\n",
              "      <td>...</td>\n",
              "      <td>0</td>\n",
              "      <td>0</td>\n",
              "      <td>0</td>\n",
              "      <td>0</td>\n",
              "      <td>0</td>\n",
              "      <td>0</td>\n",
              "      <td>0</td>\n",
              "      <td>0</td>\n",
              "      <td>0</td>\n",
              "      <td>0</td>\n",
              "      <td>3</td>\n",
              "      <td>0</td>\n",
              "      <td>0</td>\n",
              "      <td>0</td>\n",
              "      <td>0</td>\n",
              "      <td>1</td>\n",
              "      <td>1</td>\n",
              "      <td>0</td>\n",
              "      <td>1</td>\n",
              "      <td>0</td>\n",
              "      <td>0</td>\n",
              "      <td>0</td>\n",
              "      <td>0</td>\n",
              "      <td>0</td>\n",
              "      <td>0</td>\n",
              "      <td>0</td>\n",
              "      <td>0</td>\n",
              "      <td>0</td>\n",
              "      <td>0</td>\n",
              "      <td>0</td>\n",
              "      <td>0</td>\n",
              "      <td>0</td>\n",
              "      <td>11</td>\n",
              "      <td>1</td>\n",
              "      <td>20</td>\n",
              "      <td>0</td>\n",
              "      <td>0</td>\n",
              "      <td>0</td>\n",
              "      <td>0</td>\n",
              "      <td>0</td>\n",
              "    </tr>\n",
              "    <tr>\n",
              "      <th>1</th>\n",
              "      <td>2</td>\n",
              "      <td>2</td>\n",
              "      <td>2</td>\n",
              "      <td>14</td>\n",
              "      <td>16</td>\n",
              "      <td>0</td>\n",
              "      <td>0</td>\n",
              "      <td>0</td>\n",
              "      <td>0</td>\n",
              "      <td>0</td>\n",
              "      <td>0</td>\n",
              "      <td>0</td>\n",
              "      <td>0</td>\n",
              "      <td>0</td>\n",
              "      <td>0</td>\n",
              "      <td>2</td>\n",
              "      <td>2</td>\n",
              "      <td>0</td>\n",
              "      <td>0</td>\n",
              "      <td>0</td>\n",
              "      <td>0</td>\n",
              "      <td>0</td>\n",
              "      <td>2</td>\n",
              "      <td>0</td>\n",
              "      <td>4</td>\n",
              "      <td>0</td>\n",
              "      <td>4</td>\n",
              "      <td>0</td>\n",
              "      <td>0</td>\n",
              "      <td>0</td>\n",
              "      <td>0</td>\n",
              "      <td>2</td>\n",
              "      <td>0</td>\n",
              "      <td>0</td>\n",
              "      <td>0</td>\n",
              "      <td>8</td>\n",
              "      <td>0</td>\n",
              "      <td>0</td>\n",
              "      <td>0</td>\n",
              "      <td>0</td>\n",
              "      <td>...</td>\n",
              "      <td>24</td>\n",
              "      <td>0</td>\n",
              "      <td>0</td>\n",
              "      <td>0</td>\n",
              "      <td>0</td>\n",
              "      <td>0</td>\n",
              "      <td>0</td>\n",
              "      <td>0</td>\n",
              "      <td>0</td>\n",
              "      <td>0</td>\n",
              "      <td>6</td>\n",
              "      <td>8</td>\n",
              "      <td>0</td>\n",
              "      <td>0</td>\n",
              "      <td>0</td>\n",
              "      <td>0</td>\n",
              "      <td>0</td>\n",
              "      <td>0</td>\n",
              "      <td>0</td>\n",
              "      <td>0</td>\n",
              "      <td>0</td>\n",
              "      <td>0</td>\n",
              "      <td>0</td>\n",
              "      <td>2</td>\n",
              "      <td>0</td>\n",
              "      <td>0</td>\n",
              "      <td>4</td>\n",
              "      <td>0</td>\n",
              "      <td>2</td>\n",
              "      <td>0</td>\n",
              "      <td>0</td>\n",
              "      <td>0</td>\n",
              "      <td>0</td>\n",
              "      <td>0</td>\n",
              "      <td>0</td>\n",
              "      <td>4</td>\n",
              "      <td>0</td>\n",
              "      <td>0</td>\n",
              "      <td>2</td>\n",
              "      <td>0</td>\n",
              "    </tr>\n",
              "    <tr>\n",
              "      <th>2</th>\n",
              "      <td>3</td>\n",
              "      <td>0</td>\n",
              "      <td>1</td>\n",
              "      <td>12</td>\n",
              "      <td>1</td>\n",
              "      <td>0</td>\n",
              "      <td>0</td>\n",
              "      <td>0</td>\n",
              "      <td>0</td>\n",
              "      <td>0</td>\n",
              "      <td>0</td>\n",
              "      <td>7</td>\n",
              "      <td>1</td>\n",
              "      <td>0</td>\n",
              "      <td>0</td>\n",
              "      <td>0</td>\n",
              "      <td>7</td>\n",
              "      <td>0</td>\n",
              "      <td>2</td>\n",
              "      <td>0</td>\n",
              "      <td>0</td>\n",
              "      <td>0</td>\n",
              "      <td>4</td>\n",
              "      <td>0</td>\n",
              "      <td>0</td>\n",
              "      <td>0</td>\n",
              "      <td>1</td>\n",
              "      <td>1</td>\n",
              "      <td>2</td>\n",
              "      <td>0</td>\n",
              "      <td>0</td>\n",
              "      <td>0</td>\n",
              "      <td>0</td>\n",
              "      <td>0</td>\n",
              "      <td>0</td>\n",
              "      <td>1</td>\n",
              "      <td>0</td>\n",
              "      <td>0</td>\n",
              "      <td>2</td>\n",
              "      <td>0</td>\n",
              "      <td>...</td>\n",
              "      <td>10</td>\n",
              "      <td>1</td>\n",
              "      <td>0</td>\n",
              "      <td>2</td>\n",
              "      <td>0</td>\n",
              "      <td>0</td>\n",
              "      <td>1</td>\n",
              "      <td>6</td>\n",
              "      <td>1</td>\n",
              "      <td>1</td>\n",
              "      <td>0</td>\n",
              "      <td>0</td>\n",
              "      <td>1</td>\n",
              "      <td>1</td>\n",
              "      <td>1</td>\n",
              "      <td>2</td>\n",
              "      <td>0</td>\n",
              "      <td>0</td>\n",
              "      <td>2</td>\n",
              "      <td>0</td>\n",
              "      <td>0</td>\n",
              "      <td>0</td>\n",
              "      <td>0</td>\n",
              "      <td>0</td>\n",
              "      <td>0</td>\n",
              "      <td>0</td>\n",
              "      <td>6</td>\n",
              "      <td>0</td>\n",
              "      <td>2</td>\n",
              "      <td>0</td>\n",
              "      <td>0</td>\n",
              "      <td>0</td>\n",
              "      <td>0</td>\n",
              "      <td>0</td>\n",
              "      <td>2</td>\n",
              "      <td>0</td>\n",
              "      <td>0</td>\n",
              "      <td>0</td>\n",
              "      <td>0</td>\n",
              "      <td>1</td>\n",
              "    </tr>\n",
              "    <tr>\n",
              "      <th>3</th>\n",
              "      <td>4</td>\n",
              "      <td>0</td>\n",
              "      <td>0</td>\n",
              "      <td>0</td>\n",
              "      <td>1</td>\n",
              "      <td>0</td>\n",
              "      <td>0</td>\n",
              "      <td>0</td>\n",
              "      <td>0</td>\n",
              "      <td>0</td>\n",
              "      <td>0</td>\n",
              "      <td>0</td>\n",
              "      <td>0</td>\n",
              "      <td>0</td>\n",
              "      <td>0</td>\n",
              "      <td>21</td>\n",
              "      <td>3</td>\n",
              "      <td>0</td>\n",
              "      <td>0</td>\n",
              "      <td>0</td>\n",
              "      <td>0</td>\n",
              "      <td>0</td>\n",
              "      <td>0</td>\n",
              "      <td>0</td>\n",
              "      <td>0</td>\n",
              "      <td>4</td>\n",
              "      <td>0</td>\n",
              "      <td>0</td>\n",
              "      <td>0</td>\n",
              "      <td>1</td>\n",
              "      <td>0</td>\n",
              "      <td>0</td>\n",
              "      <td>0</td>\n",
              "      <td>2</td>\n",
              "      <td>0</td>\n",
              "      <td>0</td>\n",
              "      <td>0</td>\n",
              "      <td>0</td>\n",
              "      <td>1</td>\n",
              "      <td>0</td>\n",
              "      <td>...</td>\n",
              "      <td>2</td>\n",
              "      <td>0</td>\n",
              "      <td>0</td>\n",
              "      <td>0</td>\n",
              "      <td>0</td>\n",
              "      <td>0</td>\n",
              "      <td>0</td>\n",
              "      <td>0</td>\n",
              "      <td>9</td>\n",
              "      <td>0</td>\n",
              "      <td>0</td>\n",
              "      <td>2</td>\n",
              "      <td>0</td>\n",
              "      <td>0</td>\n",
              "      <td>0</td>\n",
              "      <td>0</td>\n",
              "      <td>6</td>\n",
              "      <td>0</td>\n",
              "      <td>8</td>\n",
              "      <td>0</td>\n",
              "      <td>0</td>\n",
              "      <td>0</td>\n",
              "      <td>0</td>\n",
              "      <td>1</td>\n",
              "      <td>0</td>\n",
              "      <td>0</td>\n",
              "      <td>0</td>\n",
              "      <td>0</td>\n",
              "      <td>0</td>\n",
              "      <td>0</td>\n",
              "      <td>0</td>\n",
              "      <td>3</td>\n",
              "      <td>1</td>\n",
              "      <td>0</td>\n",
              "      <td>0</td>\n",
              "      <td>0</td>\n",
              "      <td>0</td>\n",
              "      <td>0</td>\n",
              "      <td>0</td>\n",
              "      <td>0</td>\n",
              "    </tr>\n",
              "    <tr>\n",
              "      <th>4</th>\n",
              "      <td>5</td>\n",
              "      <td>1</td>\n",
              "      <td>0</td>\n",
              "      <td>0</td>\n",
              "      <td>1</td>\n",
              "      <td>0</td>\n",
              "      <td>0</td>\n",
              "      <td>1</td>\n",
              "      <td>2</td>\n",
              "      <td>0</td>\n",
              "      <td>3</td>\n",
              "      <td>0</td>\n",
              "      <td>0</td>\n",
              "      <td>0</td>\n",
              "      <td>0</td>\n",
              "      <td>0</td>\n",
              "      <td>0</td>\n",
              "      <td>0</td>\n",
              "      <td>0</td>\n",
              "      <td>0</td>\n",
              "      <td>0</td>\n",
              "      <td>0</td>\n",
              "      <td>0</td>\n",
              "      <td>0</td>\n",
              "      <td>4</td>\n",
              "      <td>0</td>\n",
              "      <td>0</td>\n",
              "      <td>0</td>\n",
              "      <td>0</td>\n",
              "      <td>0</td>\n",
              "      <td>3</td>\n",
              "      <td>0</td>\n",
              "      <td>1</td>\n",
              "      <td>0</td>\n",
              "      <td>1</td>\n",
              "      <td>0</td>\n",
              "      <td>0</td>\n",
              "      <td>0</td>\n",
              "      <td>0</td>\n",
              "      <td>0</td>\n",
              "      <td>...</td>\n",
              "      <td>0</td>\n",
              "      <td>0</td>\n",
              "      <td>0</td>\n",
              "      <td>0</td>\n",
              "      <td>0</td>\n",
              "      <td>0</td>\n",
              "      <td>0</td>\n",
              "      <td>0</td>\n",
              "      <td>0</td>\n",
              "      <td>0</td>\n",
              "      <td>0</td>\n",
              "      <td>0</td>\n",
              "      <td>0</td>\n",
              "      <td>7</td>\n",
              "      <td>0</td>\n",
              "      <td>0</td>\n",
              "      <td>0</td>\n",
              "      <td>0</td>\n",
              "      <td>0</td>\n",
              "      <td>4</td>\n",
              "      <td>0</td>\n",
              "      <td>5</td>\n",
              "      <td>16</td>\n",
              "      <td>0</td>\n",
              "      <td>0</td>\n",
              "      <td>0</td>\n",
              "      <td>0</td>\n",
              "      <td>0</td>\n",
              "      <td>0</td>\n",
              "      <td>1</td>\n",
              "      <td>0</td>\n",
              "      <td>0</td>\n",
              "      <td>0</td>\n",
              "      <td>0</td>\n",
              "      <td>0</td>\n",
              "      <td>0</td>\n",
              "      <td>0</td>\n",
              "      <td>9</td>\n",
              "      <td>0</td>\n",
              "      <td>0</td>\n",
              "    </tr>\n",
              "  </tbody>\n",
              "</table>\n",
              "<p>5 rows × 94 columns</p>\n",
              "</div>"
            ],
            "text/plain": [
              "   id  feat_1  feat_2  feat_3  ...  feat_90  feat_91  feat_92  feat_93\n",
              "0   1       0       0       0  ...        0        0        0        0\n",
              "1   2       2       2      14  ...        0        0        2        0\n",
              "2   3       0       1      12  ...        0        0        0        1\n",
              "3   4       0       0       0  ...        0        0        0        0\n",
              "4   5       1       0       0  ...        0        9        0        0\n",
              "\n",
              "[5 rows x 94 columns]"
            ]
          },
          "metadata": {
            "tags": []
          },
          "execution_count": 11
        }
      ]
    },
    {
      "cell_type": "code",
      "metadata": {
        "id": "HNx5IYiFwaGb",
        "colab_type": "code",
        "outputId": "bdd7a997-9e29-4381-d2ae-7951b4667efd",
        "colab": {
          "base_uri": "https://localhost:8080/",
          "height": 51
        }
      },
      "source": [
        "print('Dimension of train_data:',train_df.shape)\n",
        "print('Dimension of test_data:',test_df.shape)"
      ],
      "execution_count": 12,
      "outputs": [
        {
          "output_type": "stream",
          "text": [
            "Dimension of train_data: (61878, 95)\n",
            "Dimension of test_data: (144368, 94)\n"
          ],
          "name": "stdout"
        }
      ]
    },
    {
      "cell_type": "code",
      "metadata": {
        "id": "Pl-VA9RrwoeX",
        "colab_type": "code",
        "outputId": "03264d22-a2d5-4a10-e99e-8b9e79198458",
        "colab": {
          "base_uri": "https://localhost:8080/",
          "height": 34
        }
      },
      "source": [
        "train_df.isnull().sum().sum()"
      ],
      "execution_count": 13,
      "outputs": [
        {
          "output_type": "execute_result",
          "data": {
            "text/plain": [
              "0"
            ]
          },
          "metadata": {
            "tags": []
          },
          "execution_count": 13
        }
      ]
    },
    {
      "cell_type": "code",
      "metadata": {
        "id": "lQgwTe-8wrel",
        "colab_type": "code",
        "outputId": "faa2e27a-5ee1-46ba-ef59-ecd648fd075a",
        "colab": {
          "base_uri": "https://localhost:8080/",
          "height": 34
        }
      },
      "source": [
        "test_df.isnull().sum().sum()"
      ],
      "execution_count": 14,
      "outputs": [
        {
          "output_type": "execute_result",
          "data": {
            "text/plain": [
              "0"
            ]
          },
          "metadata": {
            "tags": []
          },
          "execution_count": 14
        }
      ]
    },
    {
      "cell_type": "code",
      "metadata": {
        "id": "aY0dqsRLw3Wy",
        "colab_type": "code",
        "outputId": "8837b4ae-90d5-4081-94c5-7bd2b80ebec7",
        "colab": {
          "base_uri": "https://localhost:8080/",
          "height": 34
        }
      },
      "source": [
        "classes=set(train_df.target)\n",
        "len(classes)"
      ],
      "execution_count": 15,
      "outputs": [
        {
          "output_type": "execute_result",
          "data": {
            "text/plain": [
              "9"
            ]
          },
          "metadata": {
            "tags": []
          },
          "execution_count": 15
        }
      ]
    },
    {
      "cell_type": "code",
      "metadata": {
        "id": "w-5dcJxCw91P",
        "colab_type": "code",
        "outputId": "1ef91d1f-f4b2-44ec-b612-3ccb34829832",
        "colab": {
          "base_uri": "https://localhost:8080/",
          "height": 204
        }
      },
      "source": [
        "print('No of samples across each category:',pd.crosstab(train_df.target,1))\n"
      ],
      "execution_count": 16,
      "outputs": [
        {
          "output_type": "stream",
          "text": [
            "No of samples across each category: col_0        1\n",
            "target        \n",
            "Class_1   1929\n",
            "Class_2  16122\n",
            "Class_3   8004\n",
            "Class_4   2691\n",
            "Class_5   2739\n",
            "Class_6  14135\n",
            "Class_7   2839\n",
            "Class_8   8464\n",
            "Class_9   4955\n"
          ],
          "name": "stdout"
        }
      ]
    },
    {
      "cell_type": "code",
      "metadata": {
        "id": "ob7d17XvxIs_",
        "colab_type": "code",
        "colab": {}
      },
      "source": [
        "train=train_df.copy()\n",
        "test=test_df.copy()"
      ],
      "execution_count": 0,
      "outputs": []
    },
    {
      "cell_type": "code",
      "metadata": {
        "id": "RWXHuWXRxQ7i",
        "colab_type": "code",
        "outputId": "195a0526-9c2f-4cdd-b274-09f1fdfd5ac2",
        "colab": {
          "base_uri": "https://localhost:8080/",
          "height": 119
        }
      },
      "source": [
        "train['target'] = train['target'].str.replace('Class_', '')\n",
        "train.target.head()\n",
        "#target name 'Class_0' to 0."
      ],
      "execution_count": 18,
      "outputs": [
        {
          "output_type": "execute_result",
          "data": {
            "text/plain": [
              "0    1\n",
              "1    1\n",
              "2    1\n",
              "3    1\n",
              "4    1\n",
              "Name: target, dtype: object"
            ]
          },
          "metadata": {
            "tags": []
          },
          "execution_count": 18
        }
      ]
    },
    {
      "cell_type": "code",
      "metadata": {
        "id": "SeYGnQyqxg7N",
        "colab_type": "code",
        "outputId": "3cdfca31-746d-4400-aa02-0cf5f0fb999f",
        "colab": {
          "base_uri": "https://localhost:8080/",
          "height": 119
        }
      },
      "source": [
        "# Convertig string target variable into numeric one\n",
        "train['target'] = pd.to_numeric(train['target'], errors='coerce')\n",
        "train['target'].head()"
      ],
      "execution_count": 19,
      "outputs": [
        {
          "output_type": "execute_result",
          "data": {
            "text/plain": [
              "0    1\n",
              "1    1\n",
              "2    1\n",
              "3    1\n",
              "4    1\n",
              "Name: target, dtype: int64"
            ]
          },
          "metadata": {
            "tags": []
          },
          "execution_count": 19
        }
      ]
    },
    {
      "cell_type": "markdown",
      "metadata": {
        "id": "2JNEqIM1xx0R",
        "colab_type": "text"
      },
      "source": [
        "Defining input and output variable"
      ]
    },
    {
      "cell_type": "code",
      "metadata": {
        "id": "x65w1JuYx2Yf",
        "colab_type": "code",
        "colab": {}
      },
      "source": [
        "labels = train[\"target\"].copy()\n",
        "train = train.drop(['id','target'],axis=1)\n",
        "test = test.drop('id',axis=1)"
      ],
      "execution_count": 0,
      "outputs": []
    },
    {
      "cell_type": "markdown",
      "metadata": {
        "id": "lyqU2CZQyA9S",
        "colab_type": "text"
      },
      "source": [
        "**Train and test split**"
      ]
    },
    {
      "cell_type": "code",
      "metadata": {
        "id": "Uv4YpRCCyIZQ",
        "colab_type": "code",
        "colab": {}
      },
      "source": [
        "train,validation,train_labels,validation_labels = train_test_split(train,labels,test_size=0.2,random_state=42)"
      ],
      "execution_count": 0,
      "outputs": []
    },
    {
      "cell_type": "markdown",
      "metadata": {
        "id": "9lclezy3zi-K",
        "colab_type": "text"
      },
      "source": [
        "**Let's start building models**"
      ]
    },
    {
      "cell_type": "code",
      "metadata": {
        "id": "hj-CaLSuzo3z",
        "colab_type": "code",
        "outputId": "a9ee2b06-b570-4d53-bb3e-0554319a96bd",
        "colab": {
          "base_uri": "https://localhost:8080/",
          "height": 119
        }
      },
      "source": [
        "sgd_clf = SGDClassifier(random_state=42, tol = 0.001, max_iter = 40000,loss=\"log\")\n",
        "sgd_clf.fit(train,train_labels)"
      ],
      "execution_count": 22,
      "outputs": [
        {
          "output_type": "execute_result",
          "data": {
            "text/plain": [
              "SGDClassifier(alpha=0.0001, average=False, class_weight=None,\n",
              "              early_stopping=False, epsilon=0.1, eta0=0.0, fit_intercept=True,\n",
              "              l1_ratio=0.15, learning_rate='optimal', loss='log',\n",
              "              max_iter=40000, n_iter_no_change=5, n_jobs=None, penalty='l2',\n",
              "              power_t=0.5, random_state=42, shuffle=True, tol=0.001,\n",
              "              validation_fraction=0.1, verbose=0, warm_start=False)"
            ]
          },
          "metadata": {
            "tags": []
          },
          "execution_count": 22
        }
      ]
    },
    {
      "cell_type": "code",
      "metadata": {
        "id": "jvZeZJRnztMa",
        "colab_type": "code",
        "colab": {}
      },
      "source": [
        "def evaluate(labelsTrue,predictions1,predictions2):\n",
        "    if len(predictions1)>0:\n",
        "        f1 = f1_score(labelsTrue,predictions1,average=\"weighted\")\n",
        "        print(\"F1 score: \",f1)\n",
        "    if len(predictions2)>0:\n",
        "        logloss = log_loss(labelsTrue,predictions2, eps=1e-15, normalize=True, sample_weight=None, labels=None)\n",
        "        print(\"Log loss for predicted probabilities:\",logloss)"
      ],
      "execution_count": 0,
      "outputs": []
    },
    {
      "cell_type": "code",
      "metadata": {
        "id": "LNxqmBNUz5bv",
        "colab_type": "code",
        "outputId": "92b99217-05f1-45e9-c34d-35c6836d4e58",
        "colab": {
          "base_uri": "https://localhost:8080/",
          "height": 51
        }
      },
      "source": [
        "sgd_prediction1 = sgd_clf.predict(validation)\n",
        "sgd_prediction2 = sgd_clf.predict_proba(validation)\n",
        "evaluate(validation_labels,sgd_prediction1,sgd_prediction2)"
      ],
      "execution_count": 24,
      "outputs": [
        {
          "output_type": "stream",
          "text": [
            "F1 score:  0.7373488687531389\n",
            "Log loss for predicted probabilities: 0.7037662849382124\n"
          ],
          "name": "stdout"
        }
      ]
    },
    {
      "cell_type": "markdown",
      "metadata": {
        "id": "pzp4RnxZ0ODl",
        "colab_type": "text"
      },
      "source": [
        "### KNN"
      ]
    },
    {
      "cell_type": "code",
      "metadata": {
        "id": "LMa4Gi4W0PiY",
        "colab_type": "code",
        "outputId": "8bc76d99-bc5b-4544-c958-647e207a2da3",
        "colab": {
          "base_uri": "https://localhost:8080/",
          "height": 51
        }
      },
      "source": [
        "knn_clf = KNeighborsClassifier()\n",
        "knn_clf.fit(train,train_labels)\n",
        "knn_prediction1 = knn_clf.predict(validation)\n",
        "knn_prediction2 = knn_clf.predict_proba(validation)\n",
        "evaluate(validation_labels,knn_prediction1,knn_prediction2)"
      ],
      "execution_count": 25,
      "outputs": [
        {
          "output_type": "stream",
          "text": [
            "F1 score:  0.7739562191425366\n",
            "Log loss for predicted probabilities: 2.3086776076579794\n"
          ],
          "name": "stdout"
        }
      ]
    },
    {
      "cell_type": "markdown",
      "metadata": {
        "id": "oPUU7ulc0Vnl",
        "colab_type": "text"
      },
      "source": [
        "### Random Forest Classifier"
      ]
    },
    {
      "cell_type": "code",
      "metadata": {
        "id": "7lSOU4Mi0-IK",
        "colab_type": "code",
        "outputId": "cf0c2370-e1d1-4cb3-b481-5b709d7f8dc8",
        "colab": {
          "base_uri": "https://localhost:8080/",
          "height": 51
        }
      },
      "source": [
        "rf_clf = RandomForestClassifier(n_estimators=100,n_jobs=-1)\n",
        "rf_clf.fit(train,train_labels)\n",
        "rf_prediction1 = rf_clf.predict(validation)\n",
        "rf_prediction2 = rf_clf.predict_proba(validation)\n",
        "evaluate(validation_labels,rf_prediction1,rf_prediction2)"
      ],
      "execution_count": 26,
      "outputs": [
        {
          "output_type": "stream",
          "text": [
            "F1 score:  0.8009064661509012\n",
            "Log loss for predicted probabilities: 0.6116598835603284\n"
          ],
          "name": "stdout"
        }
      ]
    },
    {
      "cell_type": "markdown",
      "metadata": {
        "id": "BSxjjMrX1JWH",
        "colab_type": "text"
      },
      "source": [
        "### Extra Tree Classifier"
      ]
    },
    {
      "cell_type": "code",
      "metadata": {
        "id": "a9gI05Lv1A7l",
        "colab_type": "code",
        "outputId": "2a37cf1e-143d-4574-9a0c-be640ce14e13",
        "colab": {
          "base_uri": "https://localhost:8080/",
          "height": 51
        }
      },
      "source": [
        "trees_clf = ExtraTreesClassifier(n_estimators=50,n_jobs=-1)\n",
        "trees_clf.fit(train,train_labels)\n",
        "prediction1_trees = trees_clf.predict(validation)\n",
        "prediction2_trees = trees_clf.predict_proba(validation)\n",
        "evaluate(validation_labels,prediction1_trees,prediction2_trees)"
      ],
      "execution_count": 27,
      "outputs": [
        {
          "output_type": "stream",
          "text": [
            "F1 score:  0.7986324308609025\n",
            "Log loss for predicted probabilities: 0.6671391740884464\n"
          ],
          "name": "stdout"
        }
      ]
    },
    {
      "cell_type": "markdown",
      "metadata": {
        "id": "4uXUwkRr1Qii",
        "colab_type": "text"
      },
      "source": [
        "### Multilayer Perceptron Classifier"
      ]
    },
    {
      "cell_type": "code",
      "metadata": {
        "id": "jKIczLDX1TrT",
        "colab_type": "code",
        "outputId": "c61b6113-73c3-4a25-8113-e8cd24089737",
        "colab": {
          "base_uri": "https://localhost:8080/",
          "height": 51
        }
      },
      "source": [
        "mlp_clf = MLPClassifier(max_iter = 500)\n",
        "mlp_clf.fit(train,train_labels)\n",
        "prediction1_mlp = mlp_clf.predict(validation)\n",
        "prediction2_mlp = mlp_clf.predict_proba(validation)\n",
        "evaluate(validation_labels,prediction1_mlp,prediction2_mlp)"
      ],
      "execution_count": 28,
      "outputs": [
        {
          "output_type": "stream",
          "text": [
            "F1 score:  0.7810735026561164\n",
            "Log loss for predicted probabilities: 0.8925115149222539\n"
          ],
          "name": "stdout"
        }
      ]
    },
    {
      "cell_type": "markdown",
      "metadata": {
        "id": "0Ed7jU_31i1f",
        "colab_type": "text"
      },
      "source": [
        "### AdaBoost"
      ]
    },
    {
      "cell_type": "code",
      "metadata": {
        "id": "JrB1CvO91spi",
        "colab_type": "code",
        "outputId": "9be8eeaf-257e-40a5-e3d0-51ef3ccae463",
        "colab": {
          "base_uri": "https://localhost:8080/",
          "height": 51
        }
      },
      "source": [
        "ada_clf = AdaBoostClassifier()\n",
        "ada_clf.fit(train,train_labels)\n",
        "prediction1_ada = ada_clf.predict(validation)\n",
        "prediction2_ada = ada_clf.predict_proba(validation)\n",
        "evaluate(validation_labels,prediction1_ada,prediction2_ada)"
      ],
      "execution_count": 29,
      "outputs": [
        {
          "output_type": "stream",
          "text": [
            "F1 score:  0.6744072921883629\n",
            "Log loss for predicted probabilities: 2.0261936531308335\n"
          ],
          "name": "stdout"
        }
      ]
    },
    {
      "cell_type": "markdown",
      "metadata": {
        "id": "UB7NkfH12xvL",
        "colab_type": "text"
      },
      "source": [
        "### Xgboost Classifier"
      ]
    },
    {
      "cell_type": "code",
      "metadata": {
        "id": "TN4OklOX226J",
        "colab_type": "code",
        "outputId": "70050f26-3e2b-4f83-ef38-e20d486ae645",
        "colab": {
          "base_uri": "https://localhost:8080/",
          "height": 51
        }
      },
      "source": [
        "xgb_clf = XGBClassifier(num_class = 9,objective=\"multi:softprob\",eval_metric=\"mlogloss\")\n",
        "xgb_clf.fit(train,train_labels)\n",
        "prediction1_xgb = xgb_clf.predict(validation)\n",
        "prediction2_xgb = xgb_clf.predict_proba(validation)\n",
        "evaluate(validation_labels,prediction1_xgb,prediction2_xgb)"
      ],
      "execution_count": 30,
      "outputs": [
        {
          "output_type": "stream",
          "text": [
            "F1 score:  0.7578247463382258\n",
            "Log loss for predicted probabilities: 0.6483268002190926\n"
          ],
          "name": "stdout"
        }
      ]
    },
    {
      "cell_type": "code",
      "metadata": {
        "id": "4xv43nCo25m-",
        "colab_type": "code",
        "outputId": "2d6fd126-e0fb-4b9b-8912-64d5d0d6b734",
        "colab": {
          "base_uri": "https://localhost:8080/",
          "height": 445
        }
      },
      "source": [
        "# finding optimal parameters using grid search\n",
        "\n",
        "xgb_gs_clf = XGBClassifier(num_class = 9,\n",
        "                           objective=\"multi:softprob\",\n",
        "                           eval_metric=\"mlogloss\",\n",
        "                           seed=42)                         \n",
        "                        \n",
        "param_grid = {\"max_depth\": [10,15],\n",
        "              \"n_estimators\": [300,400] , \n",
        "              \"gamma\": [0.03,0.05], \n",
        "              \"learning_rate\": [0.08],\n",
        "              \"min_child_weight\": [5,10], \n",
        "              \"colsample_bytree\": [0.4,0.8], \n",
        "              \"subsample\": [0.85]} \n",
        "\n",
        "grid_search = GridSearchCV(xgb_gs_clf, \n",
        "                           param_grid=param_grid,\n",
        "                           cv = 2,\n",
        "                           n_jobs=-1,\n",
        "                           scoring='neg_log_loss',\n",
        "                           verbose=2)\n",
        "grid_search.fit(train,train_labels)"
      ],
      "execution_count": 31,
      "outputs": [
        {
          "output_type": "stream",
          "text": [
            "Fitting 2 folds for each of 32 candidates, totalling 64 fits\n"
          ],
          "name": "stdout"
        },
        {
          "output_type": "stream",
          "text": [
            "[Parallel(n_jobs=-1)]: Using backend LokyBackend with 2 concurrent workers.\n",
            "/usr/local/lib/python3.6/dist-packages/joblib/externals/loky/process_executor.py:706: UserWarning: A worker stopped while some jobs were given to the executor. This can be caused by a too short worker timeout or by a memory leak.\n",
            "  \"timeout or by a memory leak.\", UserWarning\n",
            "[Parallel(n_jobs=-1)]: Done  37 tasks      | elapsed: 165.0min\n",
            "[Parallel(n_jobs=-1)]: Done  64 out of  64 | elapsed: 356.1min finished\n"
          ],
          "name": "stderr"
        },
        {
          "output_type": "execute_result",
          "data": {
            "text/plain": [
              "GridSearchCV(cv=2, error_score='raise-deprecating',\n",
              "             estimator=XGBClassifier(base_score=0.5, booster='gbtree',\n",
              "                                     colsample_bylevel=1, colsample_bynode=1,\n",
              "                                     colsample_bytree=1, eval_metric='mlogloss',\n",
              "                                     gamma=0, learning_rate=0.1,\n",
              "                                     max_delta_step=0, max_depth=3,\n",
              "                                     min_child_weight=1, missing=None,\n",
              "                                     n_estimators=100, n_jobs=1, nthread=None,\n",
              "                                     num_class=9, objective='multi:softprob...\n",
              "                                     scale_pos_weight=1, seed=42, silent=None,\n",
              "                                     subsample=1, verbosity=1),\n",
              "             iid='warn', n_jobs=-1,\n",
              "             param_grid={'colsample_bytree': [0.4, 0.8], 'gamma': [0.03, 0.05],\n",
              "                         'learning_rate': [0.08], 'max_depth': [10, 15],\n",
              "                         'min_child_weight': [5, 10],\n",
              "                         'n_estimators': [300, 400], 'subsample': [0.85]},\n",
              "             pre_dispatch='2*n_jobs', refit=True, return_train_score=False,\n",
              "             scoring='neg_log_loss', verbose=2)"
            ]
          },
          "metadata": {
            "tags": []
          },
          "execution_count": 31
        }
      ]
    },
    {
      "cell_type": "code",
      "metadata": {
        "id": "dE3HaKZE31Qw",
        "colab_type": "code",
        "colab": {
          "base_uri": "https://localhost:8080/",
          "height": 54
        },
        "outputId": "6f524333-5e36-4f8f-d5f8-39f04110f6bc"
      },
      "source": [
        "print(grid_search.best_params_)"
      ],
      "execution_count": 32,
      "outputs": [
        {
          "output_type": "stream",
          "text": [
            "{'colsample_bytree': 0.4, 'gamma': 0.05, 'learning_rate': 0.08, 'max_depth': 10, 'min_child_weight': 5, 'n_estimators': 400, 'subsample': 0.85}\n"
          ],
          "name": "stdout"
        }
      ]
    },
    {
      "cell_type": "code",
      "metadata": {
        "id": "g9QOQEx88coz",
        "colab_type": "code",
        "colab": {
          "base_uri": "https://localhost:8080/",
          "height": 51
        },
        "outputId": "eca96c34-3300-4ea7-d3fa-23f6ea0caa08"
      },
      "source": [
        "grid_prediction1 = grid_search.predict(validation)\n",
        "grid_prediction2 = grid_search.predict_proba(validation)\n",
        "evaluate(validation_labels,grid_prediction1,grid_prediction2)"
      ],
      "execution_count": 33,
      "outputs": [
        {
          "output_type": "stream",
          "text": [
            "F1 score:  0.8236450346477324\n",
            "Log loss for predicted probabilities: 0.44959403125885317\n"
          ],
          "name": "stdout"
        }
      ]
    },
    {
      "cell_type": "code",
      "metadata": {
        "id": "H1wRmY0v8khJ",
        "colab_type": "code",
        "colab": {}
      },
      "source": [
        "xgb_clf = grid_search.best_estimator_\n",
        "xgb_prediction1 = grid_prediction1\n",
        "xgb_prediction2 = grid_prediction2"
      ],
      "execution_count": 0,
      "outputs": []
    },
    {
      "cell_type": "code",
      "metadata": {
        "id": "z8tc1hwk8lxt",
        "colab_type": "code",
        "colab": {
          "base_uri": "https://localhost:8080/",
          "height": 204
        },
        "outputId": "5578dc32-f7e2-4623-95d5-3faed2c86882"
      },
      "source": [
        "predictions = pd.DataFrame( {'RandomForest': rf_prediction1,\n",
        "                                  'xgboost': xgb_prediction1,\n",
        "                                  'NearestNeighbours': knn_prediction1,\n",
        "                                  'NeuralNetworrk': prediction1_mlp,\n",
        "                                  'ExtraTrees': prediction1_trees,\n",
        "                                  'AdaBoost': prediction1_ada,\n",
        "                                  'SGD':sgd_prediction1,\n",
        "                        \n",
        "    })\n",
        "predictions.head()"
      ],
      "execution_count": 36,
      "outputs": [
        {
          "output_type": "execute_result",
          "data": {
            "text/html": [
              "<div>\n",
              "<style scoped>\n",
              "    .dataframe tbody tr th:only-of-type {\n",
              "        vertical-align: middle;\n",
              "    }\n",
              "\n",
              "    .dataframe tbody tr th {\n",
              "        vertical-align: top;\n",
              "    }\n",
              "\n",
              "    .dataframe thead th {\n",
              "        text-align: right;\n",
              "    }\n",
              "</style>\n",
              "<table border=\"1\" class=\"dataframe\">\n",
              "  <thead>\n",
              "    <tr style=\"text-align: right;\">\n",
              "      <th></th>\n",
              "      <th>RandomForest</th>\n",
              "      <th>xgboost</th>\n",
              "      <th>NearestNeighbours</th>\n",
              "      <th>NeuralNetworrk</th>\n",
              "      <th>ExtraTrees</th>\n",
              "      <th>AdaBoost</th>\n",
              "      <th>SGD</th>\n",
              "    </tr>\n",
              "  </thead>\n",
              "  <tbody>\n",
              "    <tr>\n",
              "      <th>0</th>\n",
              "      <td>2</td>\n",
              "      <td>7</td>\n",
              "      <td>2</td>\n",
              "      <td>7</td>\n",
              "      <td>2</td>\n",
              "      <td>2</td>\n",
              "      <td>2</td>\n",
              "    </tr>\n",
              "    <tr>\n",
              "      <th>1</th>\n",
              "      <td>7</td>\n",
              "      <td>7</td>\n",
              "      <td>7</td>\n",
              "      <td>7</td>\n",
              "      <td>7</td>\n",
              "      <td>1</td>\n",
              "      <td>7</td>\n",
              "    </tr>\n",
              "    <tr>\n",
              "      <th>2</th>\n",
              "      <td>6</td>\n",
              "      <td>6</td>\n",
              "      <td>6</td>\n",
              "      <td>6</td>\n",
              "      <td>6</td>\n",
              "      <td>6</td>\n",
              "      <td>6</td>\n",
              "    </tr>\n",
              "    <tr>\n",
              "      <th>3</th>\n",
              "      <td>6</td>\n",
              "      <td>6</td>\n",
              "      <td>6</td>\n",
              "      <td>4</td>\n",
              "      <td>6</td>\n",
              "      <td>4</td>\n",
              "      <td>4</td>\n",
              "    </tr>\n",
              "    <tr>\n",
              "      <th>4</th>\n",
              "      <td>6</td>\n",
              "      <td>6</td>\n",
              "      <td>6</td>\n",
              "      <td>6</td>\n",
              "      <td>6</td>\n",
              "      <td>6</td>\n",
              "      <td>6</td>\n",
              "    </tr>\n",
              "  </tbody>\n",
              "</table>\n",
              "</div>"
            ],
            "text/plain": [
              "   RandomForest  xgboost  NearestNeighbours  ...  ExtraTrees  AdaBoost  SGD\n",
              "0             2        7                  2  ...           2         2    2\n",
              "1             7        7                  7  ...           7         1    7\n",
              "2             6        6                  6  ...           6         6    6\n",
              "3             6        6                  6  ...           6         4    4\n",
              "4             6        6                  6  ...           6         6    6\n",
              "\n",
              "[5 rows x 7 columns]"
            ]
          },
          "metadata": {
            "tags": []
          },
          "execution_count": 36
        }
      ]
    },
    {
      "cell_type": "markdown",
      "metadata": {
        "id": "5YYPCDmWBWNC",
        "colab_type": "text"
      },
      "source": [
        "### Build Stacking Model"
      ]
    },
    {
      "cell_type": "code",
      "metadata": {
        "id": "wfnyKsSABZs2",
        "colab_type": "code",
        "colab": {}
      },
      "source": [
        "base1_clf = mlp_clf\n",
        "base2_clf = rf_clf\n",
        "base3_clf = knn_clf\n",
        "base4_clf = ada_clf\n",
        "base5_clf = sgd_clf\n",
        "final_clf = xgb_clf"
      ],
      "execution_count": 0,
      "outputs": []
    },
    {
      "cell_type": "code",
      "metadata": {
        "id": "gIDbtzkzBdOR",
        "colab_type": "code",
        "colab": {}
      },
      "source": [
        "n_folds = 5\n",
        "n_class = len(classes)\n",
        "kf = KFold(n_splits= n_folds, shuffle=True, random_state=42)"
      ],
      "execution_count": 0,
      "outputs": []
    },
    {
      "cell_type": "code",
      "metadata": {
        "id": "MJtOZB_XBf7r",
        "colab_type": "code",
        "colab": {}
      },
      "source": [
        "def get_oof(clf, x_train, y_train, x_test):\n",
        "    ntest = x_test.shape[0]\n",
        "    oof_train = np.zeros((x_train.shape[0],n_class))\n",
        "    oof_test = np.zeros((ntest,n_class))\n",
        "    oof_test_temp = np.empty((n_folds, ntest))\n",
        "   \n",
        "    for i,(train_index, test_index) in enumerate(kf.split(x_train)):\n",
        "        \n",
        "        x_tr = x_train[train_index]\n",
        "        y_tr = y_train[train_index]\n",
        "        x_te = x_train[test_index]\n",
        "  \n",
        "        \n",
        "        clf.fit(x_tr, y_tr)\n",
        "\n",
        "        pred_te = clf.predict_proba(x_te)\n",
        "        oof_train[test_index,:] = pred_te\n",
        "        \n",
        "        pred_test = clf.predict_proba(x_test)\n",
        "        oof_test += pred_test\n",
        "\n",
        "    return oof_train, oof_test/n_folds"
      ],
      "execution_count": 0,
      "outputs": []
    },
    {
      "cell_type": "code",
      "metadata": {
        "id": "BqWhwiVOBkJC",
        "colab_type": "code",
        "colab": {}
      },
      "source": [
        "x_train = train.values\n",
        "test_data = test.values\n",
        "y_train = train_labels.ravel()"
      ],
      "execution_count": 0,
      "outputs": []
    },
    {
      "cell_type": "code",
      "metadata": {
        "id": "oQrs2NTfBnjE",
        "colab_type": "code",
        "colab": {}
      },
      "source": [
        "base1_oof_train, base1_oof_test = get_oof(base1_clf, x_train, y_train, test_data)\n",
        "base2_oof_train, base2_oof_test = get_oof(base2_clf, x_train, y_train, test_data)\n",
        "base3_oof_train, base3_oof_test = get_oof(base3_clf, x_train, y_train, test_data)\n",
        "base4_oof_train, base4_oof_test = get_oof(base4_clf, x_train, y_train, test_data) \n",
        "base5_oof_train, base5_oof_test = get_oof(base5_clf, x_train, y_train, test_data)"
      ],
      "execution_count": 0,
      "outputs": []
    },
    {
      "cell_type": "code",
      "metadata": {
        "id": "8TXRJwYJBqgf",
        "colab_type": "code",
        "colab": {}
      },
      "source": [
        "x_train = np.concatenate((base1_oof_train, \n",
        "                          base2_oof_train,\n",
        "                          base3_oof_train,\n",
        "                          base4_oof_train,\n",
        "                          base5_oof_train), axis=1)\n",
        "test_data = np.concatenate((base1_oof_test,\n",
        "                         base2_oof_test,\n",
        "                         base3_oof_test,\n",
        "                         base4_oof_test,\n",
        "                         base5_oof_test), axis=1)"
      ],
      "execution_count": 0,
      "outputs": []
    },
    {
      "cell_type": "code",
      "metadata": {
        "id": "oqCn5pyUB01w",
        "colab_type": "code",
        "colab": {
          "base_uri": "https://localhost:8080/",
          "height": 136
        },
        "outputId": "3ab054f1-2260-4580-e812-c1b333773685"
      },
      "source": [
        "final_clf.fit(x_train,y_train)"
      ],
      "execution_count": 43,
      "outputs": [
        {
          "output_type": "execute_result",
          "data": {
            "text/plain": [
              "XGBClassifier(base_score=0.5, booster='gbtree', colsample_bylevel=1,\n",
              "              colsample_bynode=1, colsample_bytree=0.4, eval_metric='mlogloss',\n",
              "              gamma=0.05, learning_rate=0.08, max_delta_step=0, max_depth=10,\n",
              "              min_child_weight=5, missing=None, n_estimators=400, n_jobs=1,\n",
              "              nthread=None, num_class=9, objective='multi:softprob',\n",
              "              random_state=0, reg_alpha=0, reg_lambda=1, scale_pos_weight=1,\n",
              "              seed=42, silent=None, subsample=0.85, verbosity=1)"
            ]
          },
          "metadata": {
            "tags": []
          },
          "execution_count": 43
        }
      ]
    },
    {
      "cell_type": "code",
      "metadata": {
        "id": "nJtIHSh9B4Yr",
        "colab_type": "code",
        "colab": {}
      },
      "source": [
        "prediction1_stacked = final_clf.predict(test_data)\n",
        "prediction2_stacked = final_clf.predict_proba(test_data)\n",
        "#evaluate(validation_labels,prediction1_stacked,prediction2_stacked)"
      ],
      "execution_count": 0,
      "outputs": []
    },
    {
      "cell_type": "code",
      "metadata": {
        "id": "_lwc4UJt76zZ",
        "colab_type": "code",
        "colab": {
          "base_uri": "https://localhost:8080/",
          "height": 34
        },
        "outputId": "ab5e0a57-8e04-460a-99b7-634f38e1b39b"
      },
      "source": [
        "len(prediction1_stacked)"
      ],
      "execution_count": 60,
      "outputs": [
        {
          "output_type": "execute_result",
          "data": {
            "text/plain": [
              "144368"
            ]
          },
          "metadata": {
            "tags": []
          },
          "execution_count": 60
        }
      ]
    },
    {
      "cell_type": "code",
      "metadata": {
        "id": "ubv3dEwztWps",
        "colab_type": "code",
        "colab": {
          "base_uri": "https://localhost:8080/",
          "height": 204
        },
        "outputId": "b52e2724-4d3b-49b9-c471-21c5e06c9f99"
      },
      "source": [
        "submission = pd.DataFrame()\n",
        "submission['id'] = test_df['id']\n",
        "submission['class'] = prediction1_stacked\n",
        "submission.head()"
      ],
      "execution_count": 90,
      "outputs": [
        {
          "output_type": "execute_result",
          "data": {
            "text/html": [
              "<div>\n",
              "<style scoped>\n",
              "    .dataframe tbody tr th:only-of-type {\n",
              "        vertical-align: middle;\n",
              "    }\n",
              "\n",
              "    .dataframe tbody tr th {\n",
              "        vertical-align: top;\n",
              "    }\n",
              "\n",
              "    .dataframe thead th {\n",
              "        text-align: right;\n",
              "    }\n",
              "</style>\n",
              "<table border=\"1\" class=\"dataframe\">\n",
              "  <thead>\n",
              "    <tr style=\"text-align: right;\">\n",
              "      <th></th>\n",
              "      <th>id</th>\n",
              "      <th>class</th>\n",
              "    </tr>\n",
              "  </thead>\n",
              "  <tbody>\n",
              "    <tr>\n",
              "      <th>0</th>\n",
              "      <td>1</td>\n",
              "      <td>4</td>\n",
              "    </tr>\n",
              "    <tr>\n",
              "      <th>1</th>\n",
              "      <td>2</td>\n",
              "      <td>8</td>\n",
              "    </tr>\n",
              "    <tr>\n",
              "      <th>2</th>\n",
              "      <td>3</td>\n",
              "      <td>6</td>\n",
              "    </tr>\n",
              "    <tr>\n",
              "      <th>3</th>\n",
              "      <td>4</td>\n",
              "      <td>3</td>\n",
              "    </tr>\n",
              "    <tr>\n",
              "      <th>4</th>\n",
              "      <td>5</td>\n",
              "      <td>9</td>\n",
              "    </tr>\n",
              "  </tbody>\n",
              "</table>\n",
              "</div>"
            ],
            "text/plain": [
              "   id  class\n",
              "0   1      4\n",
              "1   2      8\n",
              "2   3      6\n",
              "3   4      3\n",
              "4   5      9"
            ]
          },
          "metadata": {
            "tags": []
          },
          "execution_count": 90
        }
      ]
    },
    {
      "cell_type": "code",
      "metadata": {
        "id": "7DiCuYPlrOS_",
        "colab_type": "code",
        "colab": {}
      },
      "source": [
        "#final submission is needed in one hot encoded form.\n",
        "submission['class'] = submission['class'].astype('category')\n",
        "\n",
        "submission = pd.get_dummies(submission)"
      ],
      "execution_count": 0,
      "outputs": []
    },
    {
      "cell_type": "code",
      "metadata": {
        "id": "3-YKXjJnrZzU",
        "colab_type": "code",
        "colab": {
          "base_uri": "https://localhost:8080/",
          "height": 204
        },
        "outputId": "d568bc45-8429-403c-ed58-2c14aa21e91f"
      },
      "source": [
        "submission.head()"
      ],
      "execution_count": 96,
      "outputs": [
        {
          "output_type": "execute_result",
          "data": {
            "text/html": [
              "<div>\n",
              "<style scoped>\n",
              "    .dataframe tbody tr th:only-of-type {\n",
              "        vertical-align: middle;\n",
              "    }\n",
              "\n",
              "    .dataframe tbody tr th {\n",
              "        vertical-align: top;\n",
              "    }\n",
              "\n",
              "    .dataframe thead th {\n",
              "        text-align: right;\n",
              "    }\n",
              "</style>\n",
              "<table border=\"1\" class=\"dataframe\">\n",
              "  <thead>\n",
              "    <tr style=\"text-align: right;\">\n",
              "      <th></th>\n",
              "      <th>id</th>\n",
              "      <th>class_1</th>\n",
              "      <th>class_2</th>\n",
              "      <th>class_3</th>\n",
              "      <th>class_4</th>\n",
              "      <th>class_5</th>\n",
              "      <th>class_6</th>\n",
              "      <th>class_7</th>\n",
              "      <th>class_8</th>\n",
              "      <th>class_9</th>\n",
              "    </tr>\n",
              "  </thead>\n",
              "  <tbody>\n",
              "    <tr>\n",
              "      <th>0</th>\n",
              "      <td>1</td>\n",
              "      <td>0</td>\n",
              "      <td>0</td>\n",
              "      <td>0</td>\n",
              "      <td>1</td>\n",
              "      <td>0</td>\n",
              "      <td>0</td>\n",
              "      <td>0</td>\n",
              "      <td>0</td>\n",
              "      <td>0</td>\n",
              "    </tr>\n",
              "    <tr>\n",
              "      <th>1</th>\n",
              "      <td>2</td>\n",
              "      <td>0</td>\n",
              "      <td>0</td>\n",
              "      <td>0</td>\n",
              "      <td>0</td>\n",
              "      <td>0</td>\n",
              "      <td>0</td>\n",
              "      <td>0</td>\n",
              "      <td>1</td>\n",
              "      <td>0</td>\n",
              "    </tr>\n",
              "    <tr>\n",
              "      <th>2</th>\n",
              "      <td>3</td>\n",
              "      <td>0</td>\n",
              "      <td>0</td>\n",
              "      <td>0</td>\n",
              "      <td>0</td>\n",
              "      <td>0</td>\n",
              "      <td>1</td>\n",
              "      <td>0</td>\n",
              "      <td>0</td>\n",
              "      <td>0</td>\n",
              "    </tr>\n",
              "    <tr>\n",
              "      <th>3</th>\n",
              "      <td>4</td>\n",
              "      <td>0</td>\n",
              "      <td>0</td>\n",
              "      <td>1</td>\n",
              "      <td>0</td>\n",
              "      <td>0</td>\n",
              "      <td>0</td>\n",
              "      <td>0</td>\n",
              "      <td>0</td>\n",
              "      <td>0</td>\n",
              "    </tr>\n",
              "    <tr>\n",
              "      <th>4</th>\n",
              "      <td>5</td>\n",
              "      <td>0</td>\n",
              "      <td>0</td>\n",
              "      <td>0</td>\n",
              "      <td>0</td>\n",
              "      <td>0</td>\n",
              "      <td>0</td>\n",
              "      <td>0</td>\n",
              "      <td>0</td>\n",
              "      <td>1</td>\n",
              "    </tr>\n",
              "  </tbody>\n",
              "</table>\n",
              "</div>"
            ],
            "text/plain": [
              "   id  class_1  class_2  class_3  ...  class_6  class_7  class_8  class_9\n",
              "0   1        0        0        0  ...        0        0        0        0\n",
              "1   2        0        0        0  ...        0        0        1        0\n",
              "2   3        0        0        0  ...        1        0        0        0\n",
              "3   4        0        0        1  ...        0        0        0        0\n",
              "4   5        0        0        0  ...        0        0        0        1\n",
              "\n",
              "[5 rows x 10 columns]"
            ]
          },
          "metadata": {
            "tags": []
          },
          "execution_count": 96
        }
      ]
    },
    {
      "cell_type": "code",
      "metadata": {
        "id": "K6OWhm8qc5-5",
        "colab_type": "code",
        "colab": {}
      },
      "source": [
        "submission.to_csv('HotEncodedSubmission1.csv',index = False)\n"
      ],
      "execution_count": 0,
      "outputs": []
    },
    {
      "cell_type": "code",
      "metadata": {
        "id": "G_gy8qhOjMBd",
        "colab_type": "code",
        "colab": {
          "base_uri": "https://localhost:8080/",
          "height": 34
        },
        "outputId": "80859265-19c1-4bd5-91eb-ff8cb0151e3a"
      },
      "source": [
        "submission.shape"
      ],
      "execution_count": 101,
      "outputs": [
        {
          "output_type": "execute_result",
          "data": {
            "text/plain": [
              "(144368, 10)"
            ]
          },
          "metadata": {
            "tags": []
          },
          "execution_count": 101
        }
      ]
    }
  ]
}